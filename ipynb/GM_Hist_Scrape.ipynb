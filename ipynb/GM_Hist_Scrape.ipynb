{
 "cells": [
  {
   "cell_type": "code",
   "execution_count": 29,
   "id": "5de0cea7-1ab5-49cf-aa95-f9789cb493b4",
   "metadata": {},
   "outputs": [
    {
     "name": "stdout",
     "output_type": "stream",
     "text": [
      "Error processing URL https://atl-01.statsplus.net/skylinebaseball/reports/news/html/coaches/human_manager_15.html: 404 Client Error: Not Found for url: https://atl-01.statsplus.net/skylinebaseball/reports/news/html/coaches/human_manager_15.html\n",
      "Error processing URL https://atl-01.statsplus.net/skylinebaseball/reports/news/html/coaches/human_manager_95.html: 404 Client Error: Not Found for url: https://atl-01.statsplus.net/skylinebaseball/reports/news/html/coaches/human_manager_95.html\n",
      "              GM  Year        Team Team_ID    W   L  WPct Finish\n",
      "0     Joe Peters  2000  Pittsburgh      52   57  99  .365    8th\n",
      "1     Joe Peters  2001  Pittsburgh      52   74  82  .474    5th\n",
      "2     Joe Peters  2002  Pittsburgh      52   91  65  .583    1st\n",
      "3     Joe Peters  2003  Pittsburgh      52  105  51  .673    1st\n",
      "4     Joe Peters  2004  Pittsburgh      52   94  62  .603    1st\n",
      "...          ...   ...         ...     ...  ...  ..   ...    ...\n",
      "2063   Ettin One  2054  Pittsburgh      52    0   0  .000    3rd\n",
      "2064   Ettin One  2055  Pittsburgh      52   77  85  .475    3rd\n",
      "2065   Ettin One  2056  Pittsburgh      52   77  85  .475    3rd\n",
      "2066   Ettin One  2057  Pittsburgh      52   63  99  .389    4th\n",
      "2067   Ettin One  2058  Pittsburgh      52   33  63  .344    6th\n",
      "\n",
      "[2068 rows x 8 columns]\n"
     ]
    }
   ],
   "source": [
    "from bs4 import BeautifulSoup\n",
    "import requests\n",
    "import pandas as pd\n",
    "import re\n",
    "\n",
    "# Base URL \n",
    "base_url = \"https://atl-01.statsplus.net/skylinebaseball/reports/news/html/coaches/human_manager_{}.html\"\n",
    "\n",
    "# Init managing histories\n",
    "all_managing_histories = []\n",
    "\n",
    "# Loop through manager IDs from 1 to 95 (max I could find for most recent GMs hopefully shit didn't get deleted)\n",
    "for manager_id in range(1, 96):  \n",
    "    url = base_url.format(manager_id)\n",
    "    \n",
    "    try:\n",
    "        # Fetch webpage\n",
    "        response = requests.get(url)\n",
    "        response.raise_for_status()\n",
    "        soup = BeautifulSoup(response.content, 'html.parser')\n",
    "        \n",
    "        # Get Name\n",
    "        gm_name = soup.find('div', class_='reptitle').get_text(strip=True).replace(\"General Manager \", \"\")\n",
    "        \n",
    "        # Find managing history table\n",
    "        managing_history_table = soup.find('table', class_='data sortable')\n",
    "        if not managing_history_table:\n",
    "            continue  # Skip if no table is found\n",
    "        \n",
    "        # Loop thru table\n",
    "        for row in managing_history_table.find_all('tr')[1:]:\n",
    "            columns = row.find_all('td')\n",
    "            if columns:\n",
    "                year = columns[0].get_text(strip=True)\n",
    "                team = columns[2].get_text(strip=True)\n",
    "                \n",
    "                 # Extract the ID from the href attribute\n",
    "                team_link = columns[2].find('a')['href']  # Extract the href value\n",
    "                team_id_match = re.search(r'team_(\\d+)', team_link)  # Extract numeric ID\n",
    "                team_id = team_id_match.group(1) if team_id_match else None\n",
    "                \n",
    "                wins = columns[4].get_text(strip=True)\n",
    "                losses = columns[5].get_text(strip=True)\n",
    "                win_pct = columns[6].get_text(strip=True)\n",
    "                finish = columns[7].get_text(strip=True)\n",
    "                all_managing_histories.append([gm_name, year, team, team_id, wins, losses, win_pct, finish])\n",
    "    \n",
    "    except Exception as e:\n",
    "        print(f\"Error processing URL {url}: {e}\")\n",
    "\n",
    "# Convert to df\n",
    "columns = [\"GM\", \"Year\", \"Team\", \"Team_ID\", \"W\", \"L\", \"WPct\", \"Finish\"]\n",
    "df = pd.DataFrame(all_managing_histories, columns=columns)\n",
    "\n",
    "\n",
    "print(df) \n",
    "df.to_csv(\"managing_history.csv\", index=False)  "
   ]
  },
  {
   "cell_type": "code",
   "execution_count": null,
   "id": "c6965071-714d-4bc3-8347-8323e8a6cb9a",
   "metadata": {},
   "outputs": [],
   "source": []
  }
 ],
 "metadata": {
  "kernelspec": {
   "display_name": "Python 3 (ipykernel)",
   "language": "python",
   "name": "python3"
  },
  "language_info": {
   "codemirror_mode": {
    "name": "ipython",
    "version": 3
   },
   "file_extension": ".py",
   "mimetype": "text/x-python",
   "name": "python",
   "nbconvert_exporter": "python",
   "pygments_lexer": "ipython3",
   "version": "3.12.7"
  }
 },
 "nbformat": 4,
 "nbformat_minor": 5
}
